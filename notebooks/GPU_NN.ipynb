{
 "cells": [
  {
   "cell_type": "markdown",
   "id": "1cdb801e-e281-476f-b3e9-e470785d3ad9",
   "metadata": {},
   "source": [
    "### Training on GPUs"
   ]
  },
  {
   "cell_type": "code",
   "execution_count": null,
   "id": "604d5312-0b33-4162-b5f4-551c21732550",
   "metadata": {},
   "outputs": [],
   "source": [
    "import numpy as np\n",
    "import torch\n",
    "import torch.nn as nn\n",
    "import torch.optim as optim"
   ]
  },
  {
   "cell_type": "code",
   "execution_count": null,
   "id": "49a40db4-da7b-4d24-b707-a39b79d2440e",
   "metadata": {},
   "outputs": [],
   "source": [
    "import os\n",
    "# The jupyter notebook is launched from your $HOME directory.\n",
    "# Change the working directory to the workshop directory\n",
    "# which was created in your username directory under /scratch/vp91\n",
    "os.chdir(os.path.expandvars(\"/scratch/vp91/$USER/\"))"
   ]
  },
  {
   "cell_type": "markdown",
   "id": "4098c4ec-368b-4802-9800-fc4c4b7479ba",
   "metadata": {},
   "source": [
    "#### Set Device\n",
    "Se the default device as the GPU if it exists"
   ]
  },
  {
   "cell_type": "code",
   "execution_count": null,
   "id": "4b51be64-542f-401c-ae73-00da2bbd6471",
   "metadata": {},
   "outputs": [],
   "source": [
    "device = torch.device(\"cuda\" if torch.cuda.is_available() else \"cpu\")\n",
    "print(device)"
   ]
  },
  {
   "cell_type": "markdown",
   "id": "b32c13d2-bee6-436c-b838-2c8e04a24ec6",
   "metadata": {},
   "source": [
    "### Curate the dataset\n",
    "Load the dataset, split into features (X) and output (y) variables"
   ]
  },
  {
   "cell_type": "code",
   "execution_count": null,
   "id": "222a7a99-2723-486d-9a1e-58d2792c84e8",
   "metadata": {},
   "outputs": [],
   "source": [
    "datapath = os.path.expandvars('/scratch/vp91/$USER/intro-to-pytorch/data/pima-indians-diabetes.data.csv')\n",
    "\n",
    "dataset = np.loadtxt(datapath, delimiter=',')\n",
    "X = dataset[:,0:8] \n",
    "y = dataset[:,8]\n",
    "\n",
    "X_tensor = torch.tensor(X, dtype=torch.float32)\n",
    "y_tensor = torch.tensor(y, dtype=torch.float32).reshape(-1, 1)"
   ]
  },
  {
   "cell_type": "markdown",
   "id": "abc70a8b-2c37-4c09-bd7c-717d556cb39c",
   "metadata": {},
   "source": [
    "### Defining the Model"
   ]
  },
  {
   "cell_type": "code",
   "execution_count": null,
   "id": "263d5838-320d-4dad-ac59-e2d95ada7873",
   "metadata": {},
   "outputs": [],
   "source": [
    "class PimaClassifier(nn.Module):\n",
    "    def __init__(self):\n",
    "        super().__init__()\n",
    "        self.hidden1 = nn.Linear(8, 12)\n",
    "        self.act1 = nn.ReLU()\n",
    "        self.hidden2 = nn.Linear(12, 8)\n",
    "        self.act2 = nn.ReLU()\n",
    "        self.output = nn.Linear(8, 1)\n",
    "        self.act_output = nn.Sigmoid()\n",
    " \n",
    "    def forward(self, x):\n",
    "        x = self.act1(self.hidden1(x))\n",
    "        x = self.act2(self.hidden2(x))\n",
    "        x = self.act_output(self.output(x))\n",
    "        return x"
   ]
  },
  {
   "cell_type": "code",
   "execution_count": null,
   "id": "289c55b3-f54b-4a79-ba58-5788237aabb9",
   "metadata": {},
   "outputs": [],
   "source": [
    "class_model = PimaClassifier()\n",
    "print(class_model)"
   ]
  },
  {
   "cell_type": "markdown",
   "id": "09ec5647-aded-4179-89c0-0c5d44b0c6db",
   "metadata": {},
   "source": [
    "#### Save the model"
   ]
  },
  {
   "cell_type": "code",
   "execution_count": null,
   "id": "a5a58574-4ce7-495c-be0b-d22694a6ed7a",
   "metadata": {},
   "outputs": [],
   "source": [
    "modelpath = os.path.expandvars('/scratch/vp91/$USER/class_model')\n",
    "print(modelpath)"
   ]
  },
  {
   "cell_type": "code",
   "execution_count": null,
   "id": "b2f9c1c9-4d45-447d-ac23-40593759da3c",
   "metadata": {},
   "outputs": [],
   "source": [
    "torch.save(class_model.state_dict(), modelpath)"
   ]
  },
  {
   "cell_type": "code",
   "execution_count": null,
   "id": "65839c60-6d5f-4540-aabe-fbd1914692d8",
   "metadata": {},
   "outputs": [],
   "source": [
    "!ls /scratch/vp91/$USER/class_model"
   ]
  },
  {
   "cell_type": "markdown",
   "id": "a7fcdf90-1db4-4c6e-9f28-1bc8e7a4bfd0",
   "metadata": {},
   "source": [
    "#### Load the model on the GPU"
   ]
  },
  {
   "cell_type": "code",
   "execution_count": null,
   "id": "d70bfdf8-9619-4448-ad45-cb2277d937ea",
   "metadata": {},
   "outputs": [],
   "source": [
    "class_model.load_state_dict(torch.load(modelpath, map_location=device, weights_only=True))\n",
    "class_model.to(device)"
   ]
  },
  {
   "cell_type": "code",
   "execution_count": null,
   "id": "593672e5-4e14-473d-80f9-2ed00c127729",
   "metadata": {},
   "outputs": [],
   "source": [
    "loss_fn = nn.BCELoss()"
   ]
  },
  {
   "cell_type": "code",
   "execution_count": null,
   "id": "518bf03c-0594-494e-bdb3-a41421ac53a0",
   "metadata": {},
   "outputs": [],
   "source": [
    "optimizer = optim.Adam(class_model.parameters(), lr=0.001)"
   ]
  },
  {
   "cell_type": "markdown",
   "id": "8608326d-27a3-4a5b-b485-e9af74b0f2e8",
   "metadata": {},
   "source": [
    "#### Training the Model"
   ]
  },
  {
   "cell_type": "code",
   "execution_count": null,
   "id": "ad6b09b5-9e9b-4376-ad89-d1ff8b4791eb",
   "metadata": {},
   "outputs": [],
   "source": [
    "%%time\n",
    "n_epochs = 100\n",
    "batch_size = 10\n",
    " \n",
    "for epoch in range(n_epochs):\n",
    "    for i in range(0, len(X_tensor), batch_size):\n",
    "        Xbatch = X_tensor[i:i+batch_size].to(device) # move the tensor to GPU\n",
    "\n",
    "        y_pred = class_model(Xbatch)\n",
    "        \n",
    "        ybatch = y_tensor[i:i+batch_size].to(device) # move the tensor to GPU\n",
    "        \n",
    "        loss = loss_fn(y_pred, ybatch)\n",
    "        optimizer.zero_grad()\n",
    "        loss.backward()\n",
    "        optimizer.step()\n",
    "        \n",
    "    print(f'Finished epoch {epoch}, latest loss {loss}')"
   ]
  },
  {
   "cell_type": "markdown",
   "id": "04b239a9-7e1c-42ba-8b54-58c79d26986b",
   "metadata": {},
   "source": [
    "#### Evaluate the Model\n",
    "\n",
    "Currently, we are testing the model on the training dataset. Ideally, we should split the data into separate training and testing datasets, or use a distinct dataset for evaluation. For simplicity, we are testing the model on the same data used for training.\n",
    "\n"
   ]
  },
  {
   "cell_type": "code",
   "execution_count": null,
   "id": "89e28fe2-90c5-4cd4-bd37-30ebe9183772",
   "metadata": {},
   "outputs": [],
   "source": [
    "with torch.no_grad():\n",
    "    y_pred = class_model(X_tensor.to(device))\n",
    " \n",
    "accuracy = (y_pred.round().to(device) == y_tensor.to(device)).float().mean()\n",
    "print(f\"Accuracy {accuracy}\")"
   ]
  },
  {
   "cell_type": "markdown",
   "id": "e07a44bb-25c6-4f67-8a34-514d7eadbbaf",
   "metadata": {},
   "source": [
    "### Exercise\n",
    "\n",
    "1. **What is the time difference in training**? Compare it with the previous training."
   ]
  },
  {
   "cell_type": "code",
   "execution_count": null,
   "id": "84664807-8163-46dd-b037-1b3f73d8cbd9",
   "metadata": {},
   "outputs": [],
   "source": []
  }
 ],
 "metadata": {
  "kernelspec": {
   "display_name": "Python 3 (ipykernel)",
   "language": "python",
   "name": "python3"
  },
  "language_info": {
   "codemirror_mode": {
    "name": "ipython",
    "version": 3
   },
   "file_extension": ".py",
   "mimetype": "text/x-python",
   "name": "python",
   "nbconvert_exporter": "python",
   "pygments_lexer": "ipython3",
   "version": "3.11.0"
  }
 },
 "nbformat": 4,
 "nbformat_minor": 5
}
