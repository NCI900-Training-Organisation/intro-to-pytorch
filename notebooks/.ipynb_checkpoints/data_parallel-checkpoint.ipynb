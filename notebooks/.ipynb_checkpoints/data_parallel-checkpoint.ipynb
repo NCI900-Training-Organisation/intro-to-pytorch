{
 "cells": [
  {
   "cell_type": "markdown",
   "id": "1cdb801e-e281-476f-b3e9-e470785d3ad9",
   "metadata": {},
   "source": [
    "### Using Multiple GPUs"
   ]
  },
  {
   "cell_type": "code",
   "execution_count": null,
   "id": "604d5312-0b33-4162-b5f4-551c21732550",
   "metadata": {},
   "outputs": [],
   "source": [
    "import numpy as np\n",
    "import torch\n",
    "import torch.nn as nn\n",
    "import torch.optim as optim\n",
    "from torch.utils.data import Dataset, DataLoader\n",
    "import pandas as pd\n"
   ]
  },
  {
   "cell_type": "code",
   "execution_count": null,
   "id": "49a40db4-da7b-4d24-b707-a39b79d2440e",
   "metadata": {},
   "outputs": [],
   "source": [
    "import os\n",
    "# The jupyter notebook is launched from your $HOME directory.\n",
    "# Change the working directory to the workshop directory\n",
    "# which was created in your username directory under /scratch/vp91\n",
    "os.chdir(os.path.expandvars(\"/scratch/vp91/$USER/\"))"
   ]
  },
  {
   "cell_type": "markdown",
   "id": "4098c4ec-368b-4802-9800-fc4c4b7479ba",
   "metadata": {},
   "source": [
    "#### Set Device\n",
    "Se the default device as the GPU if it exists"
   ]
  },
  {
   "cell_type": "code",
   "execution_count": null,
   "id": "4b51be64-542f-401c-ae73-00da2bbd6471",
   "metadata": {},
   "outputs": [],
   "source": [
    "device = torch.device(\"cuda\" if torch.cuda.is_available() else \"cpu\")\n",
    "print(device)"
   ]
  },
  {
   "cell_type": "markdown",
   "id": "2d29976e-56b5-46ce-8743-5480524bbca1",
   "metadata": {},
   "source": [
    "### Dataloader"
   ]
  },
  {
   "cell_type": "code",
   "execution_count": null,
   "id": "ea28a5d7-0d69-47c9-ba24-995f02168856",
   "metadata": {},
   "outputs": [],
   "source": [
    "datapath = os.path.expandvars('/scratch/vp91/$USER/intro-to-pytorch/data/pima-indians-diabetes.data.csv')\n",
    "\n",
    "# Define the custom Dataset class\n",
    "column_names = [\n",
    "    'Pregnancies', 'Glucose', 'BloodPressure', 'SkinThickness',\n",
    "    'Insulin', 'BMI', 'DiabetesPedigreeFunction', 'Age', 'Outcome'\n",
    "]\n",
    "\n",
    "# Define the custom Dataset class\n",
    "class PimaDataset(Dataset):\n",
    "    def __init__(self, csv_file):\n",
    "        self.data = pd.read_csv(csv_file, header=None, names=column_names)\n",
    "        self.features = self.data.drop('Outcome', axis=1).values\n",
    "        self.labels = self.data['Outcome'].values\n",
    "\n",
    "        self.features_tensor = torch.tensor(self.features, dtype=torch.float32)\n",
    "        self.labels_tensor = torch.tensor(self.labels, dtype=torch.float32)  # Changed to float\n",
    "\n",
    "        self.mean = self.features_tensor.mean(dim=0)\n",
    "        self.std = self.features_tensor.std(dim=0)\n",
    "        self.features_tensor = (self.features_tensor - self.mean) / self.std\n",
    "\n",
    "    def __len__(self):\n",
    "        return len(self.data)\n",
    "\n",
    "    def __getitem__(self, idx):\n",
    "        feature = self.features_tensor[idx]\n",
    "        label = self.labels_tensor[idx]\n",
    "        return feature, label"
   ]
  },
  {
   "cell_type": "code",
   "execution_count": null,
   "id": "110beb4c-c07b-4a1b-b2d4-ce7795af31a4",
   "metadata": {},
   "outputs": [],
   "source": [
    "dataset = PimaDataset(datapath)"
   ]
  },
  {
   "cell_type": "code",
   "execution_count": null,
   "id": "26d7f973-cf59-4709-a0c2-a158100449e9",
   "metadata": {},
   "outputs": [],
   "source": [
    "batch_size = 32\n",
    "data_loader = DataLoader(dataset, batch_size=batch_size, shuffle=True)"
   ]
  },
  {
   "cell_type": "markdown",
   "id": "abc70a8b-2c37-4c09-bd7c-717d556cb39c",
   "metadata": {},
   "source": [
    "### Defining the Model"
   ]
  },
  {
   "cell_type": "code",
   "execution_count": null,
   "id": "263d5838-320d-4dad-ac59-e2d95ada7873",
   "metadata": {},
   "outputs": [],
   "source": [
    "class PimaClassifier(nn.Module):\n",
    "    def __init__(self):\n",
    "        super().__init__()\n",
    "        self.hidden1 = nn.Linear(8, 12)\n",
    "        self.act1 = nn.ReLU()\n",
    "        self.hidden2 = nn.Linear(12, 8)\n",
    "        self.act2 = nn.ReLU()\n",
    "        self.output = nn.Linear(8, 1)\n",
    "        self.act_output = nn.Sigmoid()\n",
    " \n",
    "    def forward(self, x):\n",
    "        x = self.act1(self.hidden1(x))\n",
    "        x = self.act2(self.hidden2(x))\n",
    "        x = self.act_output(self.output(x))\n",
    "        return x"
   ]
  },
  {
   "cell_type": "code",
   "execution_count": null,
   "id": "289c55b3-f54b-4a79-ba58-5788237aabb9",
   "metadata": {},
   "outputs": [],
   "source": [
    "class_model = PimaClassifier()\n",
    "print(class_model)"
   ]
  },
  {
   "cell_type": "markdown",
   "id": "09ec5647-aded-4179-89c0-0c5d44b0c6db",
   "metadata": {},
   "source": [
    "#### Data Parallelism\n",
    "Pytorch will only use one GPU by default. You can easily run your operations on multiple GPUs by making your model run parallelly using `nn.DataParallel`. \n",
    "\n",
    "Check for multiple GPUs and if multiple GPUs are available, wrap the model with `nn.DataParallel`. Finally, move the model to the GPUs using `model.to(device)`."
   ]
  },
  {
   "cell_type": "code",
   "execution_count": null,
   "id": "0dc9a702-4b3a-423f-80d3-79d1e3d9e11f",
   "metadata": {},
   "outputs": [],
   "source": [
    "print(torch.cuda.device_count())"
   ]
  },
  {
   "cell_type": "code",
   "execution_count": null,
   "id": "90b1a1a5-b273-4c4b-884b-fa5fc481909b",
   "metadata": {},
   "outputs": [],
   "source": [
    "# Move model to primary device first\n",
    "class_model = class_model.to(device)"
   ]
  },
  {
   "cell_type": "code",
   "execution_count": null,
   "id": "4522e91c-0c44-4fab-ae1a-b83f35c45fde",
   "metadata": {},
   "outputs": [],
   "source": [
    "print(\"Model main device:\", next(class_model.parameters()).device)"
   ]
  },
  {
   "cell_type": "code",
   "execution_count": null,
   "id": "a5a58574-4ce7-495c-be0b-d22694a6ed7a",
   "metadata": {},
   "outputs": [],
   "source": [
    "# Wrap in DataParallel if multiple GPUs available\n",
    "if torch.cuda.device_count() > 1:\n",
    "    class_model = nn.DataParallel(class_model)\n",
    "    print(f\"Using {torch.cuda.device_count()} GPUs: {', '.join([torch.cuda.get_device_name(i) for i in range(torch.cuda.device_count())])}\")\n"
   ]
  },
  {
   "cell_type": "code",
   "execution_count": null,
   "id": "1963c05d-5abf-416a-9136-d8edb67b4901",
   "metadata": {},
   "outputs": [],
   "source": []
  },
  {
   "cell_type": "code",
   "execution_count": null,
   "id": "593672e5-4e14-473d-80f9-2ed00c127729",
   "metadata": {},
   "outputs": [],
   "source": [
    "loss_fn = nn.BCELoss()"
   ]
  },
  {
   "cell_type": "code",
   "execution_count": null,
   "id": "518bf03c-0594-494e-bdb3-a41421ac53a0",
   "metadata": {},
   "outputs": [],
   "source": [
    "optimizer = optim.Adam(class_model.parameters(), lr=0.001)"
   ]
  },
  {
   "cell_type": "markdown",
   "id": "8608326d-27a3-4a5b-b485-e9af74b0f2e8",
   "metadata": {},
   "source": [
    "#### Training the Model"
   ]
  },
  {
   "cell_type": "code",
   "execution_count": null,
   "id": "67278570-0838-40a9-9410-851c51a46b95",
   "metadata": {},
   "outputs": [],
   "source": []
  },
  {
   "cell_type": "markdown",
   "id": "04b239a9-7e1c-42ba-8b54-58c79d26986b",
   "metadata": {},
   "source": [
    "DataParallel splits your data automatically and sends job orders to multiple models on several GPUs. After each model finishes their job, DataParallel collects and merges the results before returning it to you."
   ]
  },
  {
   "cell_type": "code",
   "execution_count": null,
   "id": "84664807-8163-46dd-b037-1b3f73d8cbd9",
   "metadata": {},
   "outputs": [],
   "source": [
    "%%time\n",
    "n_epochs = 100\n",
    "\n",
    "\n",
    "for epoch in range(n_epochs):\n",
    "    running_loss = 0.0\n",
    "    for batch_features, batch_labels in data_loader:\n",
    "        # Move data to the same device as the model (cuda:0)\n",
    "        batch_features = batch_features.to(device)\n",
    "        batch_labels = batch_labels.to(device).unsqueeze(1).float()  # Ensure shape is [B, 1] for BCEWithLogitsLoss\n",
    "\n",
    "        # Forward pass\n",
    "        outputs = class_model(batch_features)\n",
    "\n",
    "        # Compute loss\n",
    "        loss = loss_fn(outputs, batch_labels)\n",
    "\n",
    "        # Backward and optimize\n",
    "        optimizer.zero_grad()\n",
    "        loss.backward()\n",
    "        optimizer.step()\n",
    "\n",
    "        running_loss += loss.item() * batch_features.size(0)\n",
    "\n",
    "    epoch_loss = running_loss / len(dataset)\n",
    "    print(f'Epoch {epoch+1}/{n_epochs}, Loss: {epoch_loss:.4f}')"
   ]
  },
  {
   "cell_type": "code",
   "execution_count": null,
   "id": "32e7a7d0-666f-482a-b250-34a3f1199240",
   "metadata": {},
   "outputs": [],
   "source": []
  },
  {
   "cell_type": "code",
   "execution_count": null,
   "id": "aedca9ef-fa2d-41e8-8847-c7e9fbcf498c",
   "metadata": {},
   "outputs": [],
   "source": [
    "print(f\"Model is on device: {next(class_model.parameters()).device}\")\n",
    "if isinstance(class_model, nn.DataParallel):\n",
    "    print(f\"DataParallel devices: {class_model.device_ids}\")"
   ]
  },
  {
   "cell_type": "markdown",
   "id": "e07a44bb-25c6-4f67-8a34-514d7eadbbaf",
   "metadata": {},
   "source": [
    "### Exercise\n",
    "\n",
    "1. **What is the time difference in training**? Compare it with the previous training (change epoch to 100)."
   ]
  },
  {
   "cell_type": "code",
   "execution_count": null,
   "id": "29a93101-7191-4c6e-bcb3-2211c9e1cf1d",
   "metadata": {},
   "outputs": [],
   "source": []
  }
 ],
 "metadata": {
  "kernelspec": {
   "display_name": "Python 3 (ipykernel)",
   "language": "python",
   "name": "python3"
  },
  "language_info": {
   "codemirror_mode": {
    "name": "ipython",
    "version": 3
   },
   "file_extension": ".py",
   "mimetype": "text/x-python",
   "name": "python",
   "nbconvert_exporter": "python",
   "pygments_lexer": "ipython3",
   "version": "3.11.0"
  }
 },
 "nbformat": 4,
 "nbformat_minor": 5
}
